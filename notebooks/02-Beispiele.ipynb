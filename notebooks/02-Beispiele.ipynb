{
 "cells": [
  {
   "cell_type": "markdown",
   "metadata": {},
   "source": [
    "# Weitere Beispiele\n",
    "\n",
    "Hier sind weitere Beispiele."
   ]
  },
  {
   "cell_type": "code",
   "execution_count": 1,
   "metadata": {},
   "outputs": [
    {
     "data": {
      "text/html": [
       "<pre style=\"white-space:pre;overflow-x:auto;line-height:normal;font-family:Menlo,'DejaVu Sans Mono',consolas,'Courier New',monospace\">Manim Community <span style=\"color: #008000; text-decoration-color: #008000\">v0.15.1</span>\n",
       "\n",
       "</pre>\n"
      ],
      "text/plain": [
       "Manim Community \u001b[32mv0.\u001b[0m\u001b[32m15.1\u001b[0m\n",
       "\n"
      ]
     },
     "metadata": {},
     "output_type": "display_data"
    }
   ],
   "source": [
    "from manim import *"
   ]
  },
  {
   "cell_type": "markdown",
   "metadata": {},
   "source": [
    "## Kathetensatz\n",
    "\n",
    "Zunächst ein Beweis des Kathetensatzes. Man könnte noch den zweiten Teil hinzufügen."
   ]
  },
  {
   "cell_type": "code",
   "execution_count": 2,
   "metadata": {},
   "outputs": [
    {
     "name": "stderr",
     "output_type": "stream",
     "text": [
      "                                                                                             \r"
     ]
    },
    {
     "data": {
      "text/html": [
       "<video src=\"media\\jupyter\\Kathetensatz@2022-12-03@15-54-33.mp4\" controls autoplay loop style=\"max-width: 60%;\"  >\n",
       "      Your browser does not support the <code>video</code> element.\n",
       "    </video>"
      ],
      "text/plain": [
       "<IPython.core.display.Video object>"
      ]
     },
     "metadata": {},
     "output_type": "display_data"
    }
   ],
   "source": [
    "%%manim -ql -v WARNING Kathetensatz\n",
    "\n",
    "import numpy as np\n",
    "\n",
    "# PARAMETERS\n",
    "r = 2\n",
    "angle = np.pi*2/5\n",
    "rt = 3\n",
    "\n",
    "# colours\n",
    "colour_tri = \"#5be800\"\n",
    "colour_quad = \"#0777ba\"\n",
    "\n",
    "common_kwargs = {\"fill_opacity\": 0.5}\n",
    "\n",
    "class Kathetensatz(Scene):\n",
    "    def construct(self):\n",
    "        # Parameters\n",
    "        pa = np.array([-r, 0, 0])\n",
    "        pb = np.array([r, 0, 0])\n",
    "        pc = np.array([r*np.cos(angle), r*np.sin(angle), 0])\n",
    "        a = np.sqrt((pc[0]-pb[0])**2 + pc[1]**2)\n",
    "        triangle = Polygon(pa, pb, pc, color=colour_tri, **common_kwargs)\n",
    "        self.add(triangle)\n",
    "\n",
    "        t_tracker = ValueTracker(0)\n",
    "        p1 = pb\n",
    "        p2 = pb + a*np.array([np.cos(angle/2), np.sin(angle/2), 0])\n",
    "        p3_0 = p2 + pc - pb\n",
    "        p4_0 = pc\n",
    "        square = Polygon(p1, p2, p3_0, p4_0, color=colour_quad, **common_kwargs)\n",
    "        self.add(square)\n",
    "\n",
    "        # a^2\n",
    "        text_a2 = MathTex(\"a^2\").shift(square.get_center())\n",
    "        self.add(text_a2)\n",
    "        text_eq = MathTex(\"a^2\", \"=\", \"pc\").shift(1.5*r*UP)\n",
    "        # animation updater\n",
    "        self.play(text_a2.animate.move_to(text_eq.get_part_by_tex(\"a^2\").get_center()))\n",
    "        square.add_updater(\n",
    "            lambda x: x.become(Polygon(p1, p2, p3_0 + (pa - pc)*t_tracker.get_value(), p4_0 + (pa - pc)*t_tracker.get_value(), color=colour_quad, **common_kwargs))\n",
    "        )\n",
    "        self.play(t_tracker.animate.increment_value(1), run_time=rt)\n",
    "\n",
    "        angle_tracker = ValueTracker(0)\n",
    "        p4 = pa\n",
    "        p3 = p4 + p2-p1\n",
    "        p3d = p3 - p1\n",
    "        square.add_updater(\n",
    "            lambda x: x.become(Polygon(pb, pb + a*np.array([np.cos(angle/2 + angle_tracker.get_value()), np.sin(angle/2 + angle_tracker.get_value()), 0]),\n",
    "                                p1 + np.array([p3d[0]*np.cos(angle_tracker.get_value())-p3d[1]*np.sin(angle_tracker.get_value()),\n",
    "                                 p3d[0]*np.sin(angle_tracker.get_value())+p3d[1]*np.cos(angle_tracker.get_value()),0]),\n",
    "                                pb + 2*r*np.array([-np.cos(angle_tracker.get_value()), -np.sin(angle_tracker.get_value()), 0]),\n",
    "                                color=colour_quad, **common_kwargs))\n",
    "        )\n",
    "        self.play(angle_tracker.animate.increment_value(np.pi/2), run_time=rt)\n",
    "        \n",
    "\n",
    "        p2 = pc\n",
    "        p3 = pc + np.array([0, -2*r, 0])\n",
    "        p4 = p1 + np.array([0, -2*r, 0])\n",
    "\n",
    "        s_tracker = ValueTracker(0)\n",
    "        square.add_updater(\n",
    "            lambda x: x.become(Polygon(p1, p2*np.array([1, 1-s_tracker.get_value(), 1]), p2*np.array([1, 1-s_tracker.get_value(), 1])-np.array([0, 2*r, 0]), p4,\n",
    "                                color=colour_quad, **common_kwargs))\n",
    "        )\n",
    "        self.play(s_tracker.animate.increment_value(1), run_time=rt)\n",
    "        text_pc = MathTex(\"pc\").shift(square.get_center())\n",
    "        self.play(FadeIn(text_pc), FadeIn(text_eq))"
   ]
  },
  {
   "cell_type": "markdown",
   "metadata": {},
   "source": [
    "## Exponentielles Wachstum\n",
    "\n",
    "Es gibt eine berühmte Aufgabenart zu exponentiellem Wachstum, bei der man annimmt, dass eine Seerose ihre Fläche in einem Teich täglich verdoppelt.\n",
    "Die folgende Veranschaulichung ist nicht sehr hübsch und die Animationen zwischen den Tagen sind nicht wirklich exponentiell. Hier könnte man viel verbessern..."
   ]
  },
  {
   "cell_type": "code",
   "execution_count": 6,
   "metadata": {},
   "outputs": [
    {
     "name": "stderr",
     "output_type": "stream",
     "text": [
      "                                                                                                        \r"
     ]
    },
    {
     "data": {
      "text/html": [
       "<video src=\"media\\jupyter\\Teich@2022-12-03@16-07-00.mp4\" controls autoplay loop style=\"max-width: 60%;\"  >\n",
       "      Your browser does not support the <code>video</code> element.\n",
       "    </video>"
      ],
      "text/plain": [
       "<IPython.core.display.Video object>"
      ]
     },
     "metadata": {},
     "output_type": "display_data"
    }
   ],
   "source": [
    "%%manim -ql -v WARNING Teich\n",
    "\n",
    "common_kwargs = {\"fill_opacity\": 0.9}\n",
    "\n",
    "class Teich(Scene):\n",
    "    step_num = 3\n",
    "    width = 0.5\n",
    "    height = 0.5/np.sqrt(2)\n",
    "    pondw = 2**step_num*width\n",
    "    pondh = 2**step_num*height\n",
    "\n",
    "\n",
    "    def construct(self):\n",
    "        day = Tex(\"Tag: \")\n",
    "        daynum = Integer(0).next_to(day).align_to(day, UP)\n",
    "        theday = VGroup(day, daynum).shift(self.pondh*DOWN)\n",
    "        rose = Rectangle(width=self.width, height=self.height, color=GREEN, **common_kwargs).shift(\n",
    "            (self.pondw - self.width)/2*LEFT + (self.pondh - self.height)/2*DOWN\n",
    "        )\n",
    "        pond = Rectangle(width=self.pondw, height=self.pondh, color=BLUE, **common_kwargs)\n",
    "        self.play(FadeIn(pond), FadeIn(rose), FadeIn(theday))\n",
    "\n",
    "        for x in range(self.step_num):\n",
    "            newrose = rose.copy()\n",
    "            self.add(newrose)\n",
    "            self.play(newrose.animate.shift(self.height*UP))\n",
    "            daynum.set_value(2*x+1)\n",
    "            self.height *= 2\n",
    "            rose = VGroup(rose, newrose)\n",
    "            newrose = rose.copy()\n",
    "            self.add(newrose)\n",
    "            self.play(newrose.animate.shift(self.width*RIGHT))\n",
    "            daynum.set_value(2*x+2)\n",
    "            self.width *= 2\n",
    "            rose = VGroup(rose, newrose)"
   ]
  },
  {
   "cell_type": "markdown",
   "metadata": {},
   "source": [
    "## Newtonverfahren"
   ]
  },
  {
   "cell_type": "code",
   "execution_count": 8,
   "metadata": {},
   "outputs": [
    {
     "name": "stderr",
     "output_type": "stream",
     "text": [
      "                                                                                                    \r"
     ]
    },
    {
     "data": {
      "text/html": [
       "<video src=\"media\\jupyter\\Newton@2022-12-03@16-09-46.mp4\" controls autoplay loop style=\"max-width: 60%;\"  >\n",
       "      Your browser does not support the <code>video</code> element.\n",
       "    </video>"
      ],
      "text/plain": [
       "<IPython.core.display.Video object>"
      ]
     },
     "metadata": {},
     "output_type": "display_data"
    }
   ],
   "source": [
    "%%manim -ql -v WARNING Newton\n",
    "\n",
    "class Newton(Scene):\n",
    "    x0 = 0.5\n",
    "    xs = [x0]\n",
    "    lines = []\n",
    "    step_num = 3\n",
    "\n",
    "    def p(self, x):\n",
    "        return x**2 - 2\n",
    "\n",
    "    def pprime(self, x):\n",
    "        return 2*x\n",
    "\n",
    "    def plot_line(self, ax):\n",
    "        x0 = self.xs[-1]\n",
    "        return ax.plot(lambda x: self.p(x0) + (x-x0)*self.pprime(x0), color=\"green\")\n",
    "    \n",
    "    def new_x(self):\n",
    "        x0 = self.xs[-1]\n",
    "        return x0 - self.p(x0)/self.pprime(x0)\n",
    "\n",
    "    def construct(self):\n",
    "        ax = Axes(\n",
    "            y_range=[-3, 2.5, 1],\n",
    "            x_range=[-0.5, 2.5, 1]\n",
    "        ).add_coordinates()\n",
    "        ax_labels = ax.get_axis_labels()\n",
    "\n",
    "        graph = ax.plot(lambda x: self.p(x), x_range=[-2.5, 2.5], color=\"blue\")\n",
    "        self.play(Create(ax), FadeIn(ax_labels))\n",
    "        #self.play(Create(ax_labels))\n",
    "        self.play(Create(graph))\n",
    "\n",
    "        x0 = self.xs[0]\n",
    "        \n",
    "        for step in range(self.step_num):\n",
    "            vert_line = ax.plot_line_graph([x0, x0], [0, self.p(x0)], add_vertex_dots=False)\n",
    "            self.play(Create(vert_line))\n",
    "            new_line = self.plot_line(ax)\n",
    "            self.play(Create(new_line))\n",
    "        \n",
    "            x0 = self.new_x()\n",
    "            self.xs.append(x0)"
   ]
  },
  {
   "cell_type": "code",
   "execution_count": null,
   "metadata": {},
   "outputs": [],
   "source": []
  }
 ],
 "metadata": {
  "kernelspec": {
   "display_name": "Python 3.10.0 64-bit",
   "language": "python",
   "name": "python3"
  },
  "language_info": {
   "codemirror_mode": {
    "name": "ipython",
    "version": 3
   },
   "file_extension": ".py",
   "mimetype": "text/x-python",
   "name": "python",
   "nbconvert_exporter": "python",
   "pygments_lexer": "ipython3",
   "version": "3.10.0"
  },
  "orig_nbformat": 4,
  "vscode": {
   "interpreter": {
    "hash": "7101ca937a6cefa303d920fd1335fe82956cc294edbf5f7bc268a5a56c54bb64"
   }
  }
 },
 "nbformat": 4,
 "nbformat_minor": 2
}
