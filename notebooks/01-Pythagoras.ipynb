{
 "cells": [
  {
   "cell_type": "markdown",
   "metadata": {},
   "source": [
    "# Manim Minitutorial\n",
    "Animation des Satzes des Pythagoras. Schritt für Schritt\n",
    "\n",
    "## Setup Manim"
   ]
  },
  {
   "cell_type": "code",
   "execution_count": 1,
   "metadata": {},
   "outputs": [
    {
     "data": {
      "text/html": [
       "<pre style=\"white-space:pre;overflow-x:auto;line-height:normal;font-family:Menlo,'DejaVu Sans Mono',consolas,'Courier New',monospace\">Manim Community <span style=\"color: #008000; text-decoration-color: #008000\">v0.15.1</span>\n",
       "\n",
       "</pre>\n"
      ],
      "text/plain": [
       "Manim Community \u001b[32mv0.\u001b[0m\u001b[32m15.1\u001b[0m\n",
       "\n"
      ]
     },
     "metadata": {},
     "output_type": "display_data"
    }
   ],
   "source": [
    "from manim import *"
   ]
  },
  {
   "cell_type": "markdown",
   "metadata": {},
   "source": [
    "## Ein erstes Dreieck\n",
    "Erste Zeile ist \"Jupyter-Magie\", um das Video zu erzeugen.\n"
   ]
  },
  {
   "cell_type": "code",
   "execution_count": 2,
   "metadata": {},
   "outputs": [
    {
     "name": "stderr",
     "output_type": "stream",
     "text": [
      "                                                                             \r"
     ]
    },
    {
     "data": {
      "text/html": [
       "<video src=\"media\\jupyter\\Pythagoras@2022-07-24@17-45-51.mp4\" controls autoplay loop style=\"max-width: 60%;\"  >\n",
       "      Your browser does not support the <code>video</code> element.\n",
       "    </video>"
      ],
      "text/plain": [
       "<IPython.core.display.Video object>"
      ]
     },
     "metadata": {},
     "output_type": "display_data"
    }
   ],
   "source": [
    "%%manim -ql -v WARNING Pythagoras\n",
    "\n",
    "class Pythagoras(Scene):\n",
    "    def construct(self):\n",
    "        triangle = Triangle()\n",
    "        self.play(Create(triangle))\n",
    "\n",
    "\n"
   ]
  },
  {
   "cell_type": "markdown",
   "metadata": {},
   "source": [
    "rechtwinkliges Dreieck?"
   ]
  },
  {
   "cell_type": "code",
   "execution_count": 3,
   "metadata": {},
   "outputs": [
    {
     "name": "stderr",
     "output_type": "stream",
     "text": [
      "                                                                            \r"
     ]
    },
    {
     "data": {
      "text/html": [
       "<video src=\"media\\jupyter\\Pythagoras@2022-07-24@17-46-37.mp4\" controls autoplay loop style=\"max-width: 60%;\"  >\n",
       "      Your browser does not support the <code>video</code> element.\n",
       "    </video>"
      ],
      "text/plain": [
       "<IPython.core.display.Video object>"
      ]
     },
     "metadata": {},
     "output_type": "display_data"
    }
   ],
   "source": [
    "%%manim -ql -v WARNING Pythagoras\n",
    "a = 3\n",
    "b = 4\n",
    "c = 5\n",
    "\n",
    "class Pythagoras(Scene):\n",
    "    def construct(self):\n",
    "        triangle = Polygon([0, 0, 0],\n",
    "                           [b, 0, 0],\n",
    "                           [0, a, 0])\n",
    "        self.play(Create(triangle))\n",
    "\n"
   ]
  },
  {
   "cell_type": "markdown",
   "metadata": {},
   "source": [
    "Quadrat über die Hypotenuse"
   ]
  },
  {
   "cell_type": "code",
   "execution_count": 4,
   "metadata": {},
   "outputs": [
    {
     "name": "stderr",
     "output_type": "stream",
     "text": [
      "                                                                                      \r"
     ]
    },
    {
     "data": {
      "text/html": [
       "<video src=\"media\\jupyter\\Pythagoras@2022-07-24@17-47-00.mp4\" controls autoplay loop style=\"max-width: 60%;\"  >\n",
       "      Your browser does not support the <code>video</code> element.\n",
       "    </video>"
      ],
      "text/plain": [
       "<IPython.core.display.Video object>"
      ]
     },
     "metadata": {},
     "output_type": "display_data"
    }
   ],
   "source": [
    "%%manim -ql -v WARNING Pythagoras\n",
    "import numpy as np\n",
    "\n",
    "# PARAMETERS\n",
    "a = 2.5\n",
    "b = 4\n",
    "c = np.sqrt(a**2 + b**2)\n",
    "\n",
    "\n",
    "class Pythagoras(Scene):\n",
    "    def construct(self):\n",
    "        # Create first triangle and move it down\n",
    "        triangle = Polygon([0, 0, 0],\n",
    "                           [b, 0, 0],\n",
    "                           [0, a, 0])\n",
    "        self.play(Create(triangle))\n",
    "        # get some space\n",
    "        self.play(triangle.animate.shift((a+b)/2*(LEFT+DOWN)))\n",
    "        # square over the hypotenuse\n",
    "        csquare = Square(c).rotate(np.arctan(b/a))\n",
    "        self.play(\n",
    "            Create(csquare)\n",
    "        )"
   ]
  },
  {
   "cell_type": "markdown",
   "metadata": {},
   "source": [
    "Farben zur Unterscheidung"
   ]
  },
  {
   "cell_type": "code",
   "execution_count": 5,
   "metadata": {},
   "outputs": [
    {
     "name": "stderr",
     "output_type": "stream",
     "text": [
      "                                                                                      \r"
     ]
    },
    {
     "data": {
      "text/html": [
       "<video src=\"media\\jupyter\\Pythagoras@2022-07-24@17-47-18.mp4\" controls autoplay loop style=\"max-width: 60%;\"  >\n",
       "      Your browser does not support the <code>video</code> element.\n",
       "    </video>"
      ],
      "text/plain": [
       "<IPython.core.display.Video object>"
      ]
     },
     "metadata": {},
     "output_type": "display_data"
    }
   ],
   "source": [
    "%%manim -ql -v WARNING Pythagoras\n",
    "import numpy as np\n",
    "\n",
    "# PARAMETERS\n",
    "a = 2.5\n",
    "b = 4\n",
    "c = np.sqrt(a**2 + b**2)\n",
    "common_kwargs = {\"fill_opacity\": 0.5}\n",
    "\n",
    "# COLOURS\n",
    "colourmain = \"#5AD86A\"\n",
    "colourcomp = \"#FF726B\"\n",
    "coloursec1 = \"#5F7DC6\"\n",
    "coloursec2 = \"#FFCE6B\"\n",
    "\n",
    "class Pythagoras(Scene):\n",
    "    def construct(self):\n",
    "        # Create first triangle and move it down\n",
    "        triangle = Polygon([0, 0, 0],\n",
    "                           [b, 0, 0],\n",
    "                           [0, a, 0], color=colourmain, **common_kwargs)\n",
    "        self.play(Create(triangle))\n",
    "        # make some space\n",
    "        self.play(triangle.animate.shift((a+b)/2*(LEFT+DOWN)))\n",
    "        # square over the hypotenuse\n",
    "        csquare = Square(c, color=colourcomp, **common_kwargs).rotate(np.arctan(b/a))\n",
    "        self.play(\n",
    "            Create(csquare)\n",
    "        )"
   ]
  },
  {
   "cell_type": "markdown",
   "metadata": {},
   "source": [
    "### Komplett"
   ]
  },
  {
   "cell_type": "code",
   "execution_count": 6,
   "metadata": {},
   "outputs": [
    {
     "name": "stderr",
     "output_type": "stream",
     "text": [
      "                                                                                                         \r"
     ]
    },
    {
     "data": {
      "text/html": [
       "<video src=\"media\\jupyter\\Pythagoras@2022-07-24@17-47-59.mp4\" controls autoplay loop style=\"max-width: 60%;\"  >\n",
       "      Your browser does not support the <code>video</code> element.\n",
       "    </video>"
      ],
      "text/plain": [
       "<IPython.core.display.Video object>"
      ]
     },
     "metadata": {},
     "output_type": "display_data"
    }
   ],
   "source": [
    "%%manim -ql -v WARNING Pythagoras\n",
    "\n",
    "# ---------------- KOMPLETT ------------------\n",
    "import numpy as np\n",
    "\n",
    "# PARAMETERS\n",
    "a = 2.5\n",
    "b = 4\n",
    "c = np.sqrt(a**2 + b**2)\n",
    "common_kwargs = {\"fill_opacity\": 0.5}\n",
    "\n",
    "# COLOURS\n",
    "colourmain = \"#5AD86A\"\n",
    "colourcomp = \"#FF726B\"\n",
    "coloursec1 = \"#5F7DC6\"\n",
    "coloursec2 = \"#FFCE6B\"\n",
    "\n",
    "class Pythagoras(Scene):\n",
    "    def construct(self):\n",
    "        # Create first triangle and move it down\n",
    "        triangle = Polygon([0, 0, 0],\n",
    "                           [b, 0, 0],\n",
    "                           [0, a, 0], color=colourmain, **common_kwargs)\n",
    "        text_a = MathTex(\"a\").next_to(triangle, LEFT)\n",
    "        text_b = MathTex(\"b\").next_to(triangle, DOWN)\n",
    "        text_c = MathTex(\"c\").next_to([b/2, a/2, 0], (UP+RIGHT)/np.sqrt(2))\n",
    "\n",
    "        tri_and_text = VGroup(triangle, text_a, text_b, text_c)\n",
    "        self.play(Create(triangle))\n",
    "        self.play(FadeIn(text_a, text_b, text_c))\n",
    "        self.play(tri_and_text.animate.shift((a+b)/2*(LEFT+DOWN)))\n",
    "        # square over the hypotenuse\n",
    "        csquare = Square(c, color=colourcomp, **common_kwargs).rotate(np.arctan(b/a))\n",
    "        text_c2 = text_c.copy()\n",
    "        self.play(\n",
    "            Create(csquare),\n",
    "            Transform(text_c2, MathTex(\"c^2\"))\n",
    "        )\n",
    "        # triangles of the sides of the squares\n",
    "        triangle2 = triangle.copy()\n",
    "        self.play(triangle2.animate.rotate_about_origin(90*DEGREES))\n",
    "        triangle3 = triangle2.copy()\n",
    "        self.play(triangle3.animate.rotate_about_origin(90*DEGREES))\n",
    "        triangle4 = triangle3.copy()\n",
    "        self.play(triangle4.animate.rotate_about_origin(90*DEGREES))\n",
    "        # remember for later\n",
    "        div_one = VGroup(\n",
    "            triangle.copy(),\n",
    "            triangle2.copy(),\n",
    "            triangle3.copy(),\n",
    "            triangle4.copy(),\n",
    "            csquare,\n",
    "            text_c2\n",
    "        )\n",
    "        # big square\n",
    "        bigsquare = Square(a+b, color=coloursec1)\n",
    "        self.play(FadeIn(bigsquare))\n",
    "\n",
    "        # text\n",
    "        text_adown = MathTex(\"a\").next_to(triangle2, DOWN)\n",
    "        text_bleft = MathTex(\"b\").next_to(triangle4, LEFT)\n",
    "        text_leftdown = VGroup(\n",
    "            text_adown,\n",
    "            text_bleft\n",
    "        )\n",
    "        text_rightup = VGroup(\n",
    "            MathTex(\"b\").next_to(triangle2, RIGHT),\n",
    "            MathTex(\"a\").next_to(triangle3, RIGHT),\n",
    "            MathTex(\"b\").next_to(triangle3, UP),\n",
    "            MathTex(\"a\").next_to(triangle4, UP)\n",
    "        )\n",
    "        self.play(FadeIn(text_leftdown, text_rightup, lag_ratio=1.1))\n",
    "\n",
    "        self.wait(2)\n",
    "\n",
    "        # rearrange triangles, delete square\n",
    "        self.play(\n",
    "            triangle2.animate.rotate(90*DEGREES, about_point=[-(a+b)/2 + b, -(a+b)/2, 0]),\n",
    "            triangle3.animate.rotate(-90*DEGREES, about_point=[-(a+b)/2 + a, (a+b)/2, 0]),\n",
    "            FadeOut(csquare),\n",
    "            FadeOut(text_c2),\n",
    "            FadeOut(text_rightup)\n",
    "        )\n",
    "        rect = VGroup(triangle3, triangle4)\n",
    "        self.play(\n",
    "            rect.animate.shift([b, 0, 0])\n",
    "        )\n",
    "\n",
    "        # small squares\n",
    "        asquare = Square(a, color=colourcomp, **common_kwargs).shift([b/2, -b/2, 0])\n",
    "        bsquare = Square(b, color=colourcomp, **common_kwargs).shift([-a/2, a/2, 0])\n",
    "        self.play(\n",
    "            Create(asquare),\n",
    "            Create(bsquare)\n",
    "        )\n",
    "        text_a2 = text_adown.copy()\n",
    "        text_b2 = text_bleft.copy()\n",
    "        self.play(\n",
    "            Transform(text_a2, MathTex(\"a^2\").shift(asquare.get_center())),\n",
    "            Transform(text_b2, MathTex(\"b^2\").shift(bsquare.get_center()))\n",
    "        )\n",
    "        #\n",
    "        div_two = VGroup(\n",
    "            triangle,\n",
    "            triangle2,\n",
    "            triangle3,\n",
    "            triangle4,\n",
    "            asquare,\n",
    "            bsquare,\n",
    "            text_a2,\n",
    "            text_b2\n",
    "        )\n",
    "        self.play(\n",
    "            FadeOut(text_a, text_b, text_c, bigsquare, text_adown, text_bleft),\n",
    "            FadeIn(div_one),\n",
    "            div_one.animate.shift((a+b)/2*LEFT),\n",
    "            div_two.animate.shift((a+b)/2*RIGHT)\n",
    "        )\n",
    "        self.play(\n",
    "            ScaleInPlace(div_one, 0.7),\n",
    "            ScaleInPlace(div_two, 0.7)\n",
    "        )\n",
    "\n",
    "        self.wait(2)\n",
    "\n",
    "\n"
   ]
  },
  {
   "cell_type": "code",
   "execution_count": null,
   "metadata": {},
   "outputs": [],
   "source": []
  }
 ],
 "metadata": {
  "kernelspec": {
   "display_name": "Python 3.10.0 64-bit",
   "language": "python",
   "name": "python3"
  },
  "language_info": {
   "codemirror_mode": {
    "name": "ipython",
    "version": 3
   },
   "file_extension": ".py",
   "mimetype": "text/x-python",
   "name": "python",
   "nbconvert_exporter": "python",
   "pygments_lexer": "ipython3",
   "version": "3.10.0"
  },
  "orig_nbformat": 4,
  "vscode": {
   "interpreter": {
    "hash": "7101ca937a6cefa303d920fd1335fe82956cc294edbf5f7bc268a5a56c54bb64"
   }
  }
 },
 "nbformat": 4,
 "nbformat_minor": 2
}
